{
 "cells": [
  {
   "cell_type": "code",
   "execution_count": 1,
   "metadata": {},
   "outputs": [],
   "source": [
    "%load_ext autoreload\n",
    "%autoreload 2"
   ]
  },
  {
   "cell_type": "code",
   "execution_count": 2,
   "metadata": {},
   "outputs": [
    {
     "name": "stdout",
     "output_type": "stream",
     "text": [
      "/media/dicarlod/SSD_2/diego/Code/INCANT/python/notebooks\n"
     ]
    }
   ],
   "source": [
    "import os\n",
    "import sys\n",
    "from pathlib import Path\n",
    "\n",
    "print(os.getcwd())\n",
    "sys.path.append(str(Path('../src').resolve()))"
   ]
  },
  {
   "cell_type": "code",
   "execution_count": 48,
   "metadata": {},
   "outputs": [],
   "source": [
    "import torch\n",
    "import numpy as np\n",
    "import pandas as pd\n",
    "import matplotlib.pyplot as plt\n",
    "from matplotlib import cm\n",
    "\n",
    "import scipy.interpolate as interpolate\n",
    "from matplotlib.colors import LogNorm\n",
    "\n",
    "from tqdm import tqdm\n",
    "\n",
    "from implicits import SIREN, MFN, continuous_diff"
   ]
  },
  {
   "cell_type": "code",
   "execution_count": 6,
   "metadata": {},
   "outputs": [
    {
     "name": "stdout",
     "output_type": "stream",
     "text": [
      "Data t0: (24253, 4)\n",
      "Data t1: (26658, 4)\n",
      "min [  6.375 216.5   248.309   0.   ]\n",
      "mean [ 36.41119797 238.84924672 261.26950427   0.52361965]\n",
      "max [ 64.5   261.5   275.804   1.   ]\n"
     ]
    }
   ],
   "source": [
    "# Load Data\n",
    "path_to_csv0 = Path(\"../../data/clippeddata/clippedMarco0.txt\")\n",
    "path_to_csv1 = Path(\"../../data/clippeddata/clippedMarco1.txt\")\n",
    "\n",
    "data_t0 = pd.read_csv(path_to_csv0).to_numpy()[:,:3]\n",
    "data_t0 = np.concatenate([data_t0, np.zeros((data_t0.shape[0],1))], axis=-1)\n",
    "print('Data t0:', data_t0.shape)\n",
    "data_t1 = pd.read_csv(path_to_csv1).to_numpy()[:,:3]\n",
    "data_t1 = np.concatenate([data_t1, np.ones((data_t1.shape[0],1))], axis=-1)\n",
    "print('Data t1:', data_t1.shape)\n",
    "\n",
    "data = np.concatenate([data_t0, data_t1], axis=0)\n",
    "col_names = [\"x\",\"y\",\"z\",\"t\"]\n",
    "\n",
    "print(\"min\", np.min(data, axis=0))\n",
    "print(\"mean\", np.mean(data, axis=0))\n",
    "print(\"max\", np.max(data, axis=0))"
   ]
  },
  {
   "cell_type": "code",
   "execution_count": null,
   "metadata": {},
   "outputs": [],
   "source": [
    "# Create dataloader\n",
    "class MarcoDataset(torch.utils.data.Dataset):\n",
    "    def __init__(self, data, col_names, device):\n",
    "        self.col_names = col_names\n",
    "        self.data = data\n",
    "        n_obs = self.data.shape[0]\n",
    "        \n",
    "        self.coords = torch.Tensor(self.data[:,[0,1,3]]).to(device)\n",
    "        self.target = torch.Tensor(self.data[:,2][:,None]).to(device)\n",
    "        \n",
    "        # normalization between [-1,1] for SIREN\n",
    "        self.coords = self.coords / torch.abs(torch.max(self.coords, axis=0, keepdim=True)[0])\n",
    "        for d in range(self.coords.shape[1]):\n",
    "            assert torch.max(self.coords[:,d][0]) <  1\n",
    "            assert torch.max(self.coords[:,d][0]) > -1\n",
    "        \n",
    "        print(self.coords.shape)\n",
    "        print(self.target.shape)\n",
    "        \n",
    "        \n",
    "    def __len__(self):\n",
    "        return self.coords.shape[0]\n",
    "    \n",
    "    def __getitem__(self, idx):\n",
    "        coords = self.coords[idx,:]\n",
    "        target = self.target[idx,:]\n",
    "        return (coords, target)"
   ]
  },
  {
   "cell_type": "code",
   "execution_count": null,
   "metadata": {},
   "outputs": [],
   "source": [
    "device = torch.device('cuda' if torch.cuda.is_available() else 'cpu')\n",
    "print(device)\n",
    "dset = MarcoDataset(data, col_names, device)\n",
    "\n",
    "n_obs = len(dset)\n",
    "print(n_obs)\n",
    "\n",
    "n_test = int((10 / 100) * n_obs)\n",
    "n_val  = int((10 / 100) * n_obs)\n",
    "n_train = n_obs - n_val - n_test\n",
    "\n",
    "dset_train, dset_val, dset_test = torch.utils.data.random_split(dset, [n_train, n_val, n_test])\n",
    "dload_train = torch.utils.data.DataLoader(dset_train, shuffle=True, batch_size=1024)\n",
    "dload_val = torch.utils.data.DataLoader(dset_val, shuffle=True, batch_size=n_val)\n",
    "dload_test = torch.utils.data.DataLoader(dset, shuffle=False, batch_size=n_obs)"
   ]
  },
  {
   "cell_type": "code",
   "execution_count": null,
   "metadata": {},
   "outputs": [],
   "source": [
    "lr = 1e-3\n",
    "epochs = 300\n",
    "val_interval = 25\n",
    "loss_name = 'MSE'\n",
    "\n",
    "losses = {\n",
    "    'MSE' : torch.nn.MSELoss(),\n",
    "    'MAE' : torch.nn.L1Loss(),\n",
    "}\n",
    "\n",
    "class INCANT(SIREN):\n",
    "    def __init__(self, in_dim, out_dim, hidden_num, hidden_dim, feature_scales):\n",
    "        super(INCANT, self).__init__(in_dim, out_dim, hidden_num, hidden_dim, feature_scales)\n",
    "    \n",
    "    # extend SIREN forward\n",
    "    def forward(self, xin):\n",
    "        return 100 * torch.tanh(super(INCANT, self).forward(xin)) + 260\n",
    "\n",
    "model = INCANT(\n",
    "    in_dim = 3,\n",
    "    out_dim = 1,\n",
    "    hidden_num = 3,\n",
    "    hidden_dim = 512,\n",
    "    feature_scales = [30., 30., 10]\n",
    ")\n",
    "optim = torch.optim.Adam(lr=lr, params=model.parameters())\n",
    "loss_fun = losses[loss_name]\n",
    "        \n",
    "loss_track = []\n",
    "metrics_track = []\n",
    "\n",
    "model = model.to(device)\n",
    "model.train()\n",
    "\n",
    "\n",
    "for step in tqdm(range(epochs)):\n",
    "\n",
    "    for batch_idx, (coords, reference) in enumerate(dload_train):\n",
    "\n",
    "        # model with some prior knowledge\n",
    "        estimated = model(coords)\n",
    "        loss = loss_fun(estimated, reference)\n",
    "        \n",
    "        if not step % val_interval and batch_idx == 0:\n",
    "\n",
    "            print(\"Step %d, Total loss %0.6f\" % (step, loss))\n",
    "\n",
    "            model.eval()\n",
    "            coords, reference = next(iter(dload_val))\n",
    "            estimated = model(coords)\n",
    "\n",
    "            # metrics = compute_metrics(estimated, reference)\n",
    "            metrics = {\n",
    "                'mse' : (torch.abs(reference - estimated)**2).cpu().detach().numpy()\n",
    "            }\n",
    "            model.train()\n",
    "\n",
    "        optim.zero_grad()\n",
    "        loss.backward()\n",
    "        optim.step()\n",
    "\n",
    "        metrics_track.append(metrics)\n",
    "        loss_track.append(loss.item())\n",
    "\n",
    "results_dict = {\n",
    "    'conf' : None,\n",
    "    'loss' : np.array(loss_track),\n",
    "    'metrics' : metrics_track\n",
    "}\n",
    "# with open(outdir / Path('res_dict.pkl'), 'wb') as f:\n",
    "#     pickle.dump(results_dict, f)"
   ]
  },
  {
   "cell_type": "code",
   "execution_count": null,
   "metadata": {},
   "outputs": [],
   "source": [
    "plt.plot(np.log(loss_track))\n",
    "plt.show()"
   ]
  },
  {
   "cell_type": "code",
   "execution_count": null,
   "metadata": {},
   "outputs": [],
   "source": []
  },
  {
   "cell_type": "code",
   "execution_count": null,
   "metadata": {},
   "outputs": [],
   "source": []
  }
 ],
 "metadata": {
  "kernelspec": {
   "display_name": "steer_env",
   "language": "python",
   "name": "python3"
  },
  "language_info": {
   "codemirror_mode": {
    "name": "ipython",
    "version": 3
   },
   "file_extension": ".py",
   "mimetype": "text/x-python",
   "name": "python",
   "nbconvert_exporter": "python",
   "pygments_lexer": "ipython3",
   "version": "3.10.8"
  },
  "orig_nbformat": 4,
  "vscode": {
   "interpreter": {
    "hash": "a2a9446b14bbd5e97d0638655bc204815247c9ce734da1ea118eea6cb06ee149"
   }
  }
 },
 "nbformat": 4,
 "nbformat_minor": 2
}
